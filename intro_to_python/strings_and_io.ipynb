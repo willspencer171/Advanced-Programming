{
 "cells": [
  {
   "cell_type": "markdown",
   "metadata": {},
   "source": [
    "# Exercise 1\n",
    "\n",
    "Write a program that outputs a times table from a given (user entered) integer value. It should start at 2 and output only the EVEN multiples. This program should loop until the user chooses to exit.\n",
    "\n",
    "I wonder how this will go in Jupyter tbf"
   ]
  },
  {
   "cell_type": "code",
   "execution_count": 12,
   "metadata": {},
   "outputs": [
    {
     "name": "stdout",
     "output_type": "stream",
     "text": [
      "The times table for 4 is:\n",
      "         2 times 4 is 8\n",
      "         4 times 4 is 16\n",
      "         6 times 4 is 24\n",
      "         8 times 4 is 32\n",
      "        10 times 4 is 40\n",
      "        12 times 4 is 48\n",
      "        14 times 4 is 56\n",
      "        16 times 4 is 64\n",
      "        18 times 4 is 72\n",
      "        20 times 4 is 80\n",
      "Thanks for playing!\n"
     ]
    }
   ],
   "source": [
    "while True:\n",
    "    try:\n",
    "        user_input = int(input(\"Enter an integer or 0 to exit: \"))\n",
    "    except ValueError:\n",
    "        print(\"Please enter an integer\")\n",
    "        continue\n",
    "    \n",
    "    if user_input == 0:\n",
    "        print(\"Thanks for playing!\")\n",
    "        break\n",
    "\n",
    "    print(f\"The times table for {user_input} is:\")\n",
    "    for i in range(2, 21, 2):\n",
    "        output = str(i).rjust(10) + f\" times {user_input} is {i*user_input}\".ljust(8)\n",
    "\n",
    "        print(output)"
   ]
  },
  {
   "cell_type": "markdown",
   "metadata": {},
   "source": [
    "# Exercise 2\n",
    "\n",
    "Triangles and Diamonds. Classic code problem, create a left and right sided right-angle triangle with a character. Do the same thing with a diamond as well!\n",
    "\n",
    "Allow the user to choose left, right or center and the character, and size of the pattern"
   ]
  },
  {
   "cell_type": "code",
   "execution_count": 31,
   "metadata": {},
   "outputs": [
    {
     "name": "stdout",
     "output_type": "stream",
     "text": [
      "    @    \n",
      "   @@@   \n",
      "  @@@@@  \n",
      " @@@@@@@ \n",
      "@@@@@@@@@\n",
      " @@@@@@@ \n",
      "  @@@@@  \n",
      "   @@@   \n",
      "    @    \n"
     ]
    }
   ],
   "source": [
    "while True:\n",
    "    character = input(\"Choose a character: \")\n",
    "    l_r_c = int(input(\"Choose left (1), right (2) or diamond (3): \"))\n",
    "    size = int(input(\"How deep does it go?\"))\n",
    "\n",
    "    if l_r_c == 0:\n",
    "        print(\"Thanks for playing!\")\n",
    "        break\n",
    "\n",
    "    if len(character) != 1 or l_r_c not in [1,2,3] or size < 1:\n",
    "        print(\"Something's not right...\")\n",
    "        continue\n",
    "\n",
    "    break\n",
    "\n",
    "match l_r_c:\n",
    "    # Left-Handed Triangle\n",
    "    case 1:\n",
    "        for i in range(1, size + 1):\n",
    "            print(f\"{character * i}\".ljust(size))\n",
    "\n",
    "    # Right-Handed Triangle\n",
    "    case 2:\n",
    "        for i in range(1, size + 1):\n",
    "            print(f\"{character * i}\".rjust(size))\n",
    "\n",
    "    # Diamond\n",
    "    case 3:\n",
    "        # Top half\n",
    "        for i in range(1, size + 1, 2):\n",
    "            print(f\"{i * character}\".center(size))\n",
    "        \n",
    "        # For even numbers\n",
    "        if size % 2 == 0:\n",
    "            size -= 1\n",
    "        \n",
    "        # Bottom half\n",
    "        for i in range(size - 2, 0, -2):\n",
    "            print(f\"{i * character}\".center(size))\n"
   ]
  },
  {
   "cell_type": "markdown",
   "metadata": {},
   "source": [
    "# Exercise 3\n",
    "\n",
    "Calendar! Allow the user to input the number of days in a month, and the first day of that month (1 to 7). It should print the calendar nice and neat"
   ]
  },
  {
   "cell_type": "code",
   "execution_count": 52,
   "metadata": {},
   "outputs": [
    {
     "name": "stdout",
     "output_type": "stream",
     "text": [
      "Something went wrong, try again!\n",
      "Something went wrong, try again!\n"
     ]
    }
   ],
   "source": [
    "while True:\n",
    "    try:\n",
    "        days_in_a_month = int(input(\"How many days in the month? \"))\n",
    "        day_of_week = int(input(\"Which day of the week does it start on? (1-7) \"))\n",
    "        if day_of_week not in range(1, 8) or days_in_a_month > 31:\n",
    "            raise ValueError\n",
    "    except ValueError:\n",
    "        print(\"Something went wrong, try again!\")\n",
    "        continue\n",
    "    break"
   ]
  },
  {
   "cell_type": "code",
   "execution_count": 53,
   "metadata": {},
   "outputs": [
    {
     "name": "stdout",
     "output_type": "stream",
     "text": [
      " Mon Tue Wed Thu Fri Sat Sun\n",
      "                       1   2\n",
      "   3   4   5   6   7   8   9\n",
      "  10  11  12  13  14  15  16\n",
      "  17  18  19  20  21  22  23\n",
      "  24  25  26  27  28  29  30\n",
      "  31                        \n",
      "\n"
     ]
    }
   ],
   "source": [
    "print(\"\".join([' Mon', ' Tue', ' Wed', ' Thu', ' Fri', ' Sat', ' Sun']))\n",
    "\n",
    "cal = \"\"\n",
    "for i in range(1, 43):\n",
    "    if i < day_of_week or i - day_of_week + 1 > days_in_a_month:\n",
    "        cell = \"    \"\n",
    "    else:\n",
    "        cell = str(i - day_of_week + 1).rjust(4)\n",
    "    \n",
    "    if i % 7 == 0:\n",
    "        cell += \"\\n\"\n",
    "    \n",
    "    cal += cell\n",
    "\n",
    "print(cal)"
   ]
  }
 ],
 "metadata": {
  "kernelspec": {
   "display_name": "Python 3",
   "language": "python",
   "name": "python3"
  },
  "language_info": {
   "codemirror_mode": {
    "name": "ipython",
    "version": 3
   },
   "file_extension": ".py",
   "mimetype": "text/x-python",
   "name": "python",
   "nbconvert_exporter": "python",
   "pygments_lexer": "ipython3",
   "version": "3.12.7"
  }
 },
 "nbformat": 4,
 "nbformat_minor": 2
}
