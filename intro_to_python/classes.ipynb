{
 "cells": [
  {
   "cell_type": "markdown",
   "metadata": {},
   "source": [
    "# Exercise 2\n",
    "\n",
    "- Create a Name class that has the attributes firstName, surname, title and otherNames. You will need to use a suitable data structure for other names. \n",
    "- Write a method in the class called formalName() that will output a name in the following format:\n",
    "  - Mr J. S. Greenhold or Mr J. Greenhold if there are no middle names.\n",
    "- Use the Name class within a Person object to demonstrate composition.\n",
    "- Create a sub-class of Student for DistanceStudent and add the attribute currentModule.\n",
    "- Using this structure and any other appropriate methods, create a DistanceStudent and printout the following:\n",
    "  - Mr J. S. Greenhold is currently studying the Advanced Programming module."
   ]
  },
  {
   "cell_type": "code",
   "execution_count": null,
   "metadata": {},
   "outputs": [],
   "source": [
    "# Inherits from object \n",
    "# anyway but why not show inheritance\n",
    "class Name(object): \n",
    "    def __init__(self, first_name: str,\n",
    "                 surname: str,\n",
    "                 title: str,\n",
    "                 *other_names) -> None:\n",
    "        \n",
    "        self.first_name = first_name\n",
    "        self.surname = surname\n",
    "        self.title = title\n",
    "        # Optional positional arguments allows for arbitrary \n",
    "        # names and multiple middle names\n",
    "        self.other_names = other_names\n",
    "\n",
    "    # Allows user to access it as a property rather than a method\n",
    "    @property\n",
    "    def formal_name(self) -> str:\n",
    "        inits = \"\"\n",
    "        if self.other_names:\n",
    "            inits = \"\".join([name[0].upper() + \". \" for name in self.other_names])\n",
    "        return f'{self.title} {self.first_name[0].upper()}. {inits}{self.surname}'"
   ]
  },
  {
   "cell_type": "code",
   "execution_count": null,
   "metadata": {},
   "outputs": [],
   "source": [
    "# Not really any point in not having this be an abstract class in this scenario\n",
    "class Person:\n",
    "    def __init__(self, name: Name) -> None:\n",
    "        self.name = name\n",
    "\n",
    "class Student(Person):\n",
    "    def __init__(self, name: Name) -> None:\n",
    "        # Initialise using the super() object's __init__ method\n",
    "        super().__init__(name)\n",
    "\n",
    "class DistanceStudent(Student):\n",
    "    def __init__(self, name: Name, module: str) -> None:\n",
    "        super().__init__(name)\n",
    "        self.current_module = module\n",
    "    \n",
    "    def print_current_studies(self):\n",
    "        print(f'{self.name.formal_name} is studying {self.current_module}')"
   ]
  },
  {
   "cell_type": "code",
   "execution_count": null,
   "metadata": {},
   "outputs": [
    {
     "name": "stdout",
     "output_type": "stream",
     "text": [
      "Dr. R. J. C. Spectre is studying Advanced Programming\n"
     ]
    }
   ],
   "source": [
    "# A cool name\n",
    "name = Name('Ross', 'Spectre', 'Dr.', 'James', 'Creighton')\n",
    "\n",
    "# A cool module\n",
    "distance_student = DistanceStudent(name, 'Advanced Programming')\n",
    "\n",
    "distance_student.print_current_studies()"
   ]
  }
 ],
 "metadata": {
  "kernelspec": {
   "display_name": "Python 3",
   "language": "python",
   "name": "python3"
  },
  "language_info": {
   "codemirror_mode": {
    "name": "ipython",
    "version": 3
   },
   "file_extension": ".py",
   "mimetype": "text/x-python",
   "name": "python",
   "nbconvert_exporter": "python",
   "pygments_lexer": "ipython3",
   "version": "3.12.7"
  }
 },
 "nbformat": 4,
 "nbformat_minor": 2
}
