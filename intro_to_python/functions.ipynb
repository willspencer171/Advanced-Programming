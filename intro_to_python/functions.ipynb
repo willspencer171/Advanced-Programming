{
 "cells": [
  {
   "cell_type": "markdown",
   "metadata": {},
   "source": [
    "# Exercise 1\n",
    "\n",
    "Write a program in Python that asks the user for a sentence and analyses it to establish the number of separate vowels (A, E, I, O, U) and the number of “other” non-space characters contained in the sentence. Your program should output a histogram which indicates a * (star) for each vowel character, followed by a statement indicating the number of other non-space characters."
   ]
  },
  {
   "cell_type": "code",
   "execution_count": 4,
   "metadata": {},
   "outputs": [
    {
     "name": "stdout",
     "output_type": "stream",
     "text": [
      "A: **\n",
      "E: *******\n",
      "I: ******\n",
      "O: *********\n",
      "U: ***\n",
      "Other: 39\n"
     ]
    }
   ],
   "source": [
    "from string import ascii_letters\n",
    "\n",
    "def hist(input: str):\n",
    "    vals = {'A': 0,\n",
    "            'E': 0,\n",
    "            'I': 0,\n",
    "            'O': 0,\n",
    "            'U': 0,\n",
    "            'Other': 0}\n",
    "\n",
    "    for char in input:\n",
    "        if char.upper() in 'AEIOU':\n",
    "            vals[char.upper()] += 1\n",
    "        \n",
    "        elif char in ascii_letters:\n",
    "            vals['Other'] += 1\n",
    "    \n",
    "    for item in vals.items():\n",
    "        if item[0] != 'Other':\n",
    "            print(f'{item[0]}: {'*' * item[1]}')\n",
    "        else:\n",
    "            print(f'Other: {item[1]}')\n",
    "\n",
    "hist(input())"
   ]
  },
  {
   "cell_type": "markdown",
   "metadata": {},
   "source": [
    "# Exercise 2\n",
    "\n",
    "Write a program in Python that checks if two inputted words are ‘anagrams’. If the user inputs ‘note’ and ‘tone’, the program would output “These are anagrams”. If the user entered 'cat' and 'sat' the program would output \"These are not anagrams\". Your program should contain a function “isAnagram()” that returns either true or false. The main part of the program should provide a suitable interface for the user."
   ]
  },
  {
   "cell_type": "code",
   "execution_count": null,
   "metadata": {},
   "outputs": [
    {
     "data": {
      "text/plain": [
       "True"
      ]
     },
     "execution_count": 15,
     "metadata": {},
     "output_type": "execute_result"
    }
   ],
   "source": [
    "def isAnagram(string1: str, string2: str):\n",
    "    res = False\n",
    "    if len(string1) != len(string2):\n",
    "        return res\n",
    "    \n",
    "    # Sort the strings\n",
    "    string1 = sorted(string1)\n",
    "    string2 = sorted(string2)\n",
    "\n",
    "    for i in range(len(string1)):\n",
    "        if string1[i] != string2[i]:\n",
    "            return res\n",
    "    \n",
    "    res = True\n",
    "    return res"
   ]
  },
  {
   "cell_type": "code",
   "execution_count": 16,
   "metadata": {},
   "outputs": [
    {
     "name": "stdout",
     "output_type": "stream",
     "text": [
      "hi and ih are anagrams!\n"
     ]
    }
   ],
   "source": [
    "ui1 = input(\"Please enter a string\")\n",
    "ui2 = input(\"And another one to see if it's an anagram\")\n",
    "\n",
    "anagram = isAnagram(ui1, ui2)\n",
    "\n",
    "if anagram:\n",
    "    print(f\"{ui1} and {ui2} are anagrams!\")\n",
    "else:\n",
    "    print(f'{ui1} and {ui2} are not anagrams :(')"
   ]
  }
 ],
 "metadata": {
  "kernelspec": {
   "display_name": "Python 3",
   "language": "python",
   "name": "python3"
  },
  "language_info": {
   "codemirror_mode": {
    "name": "ipython",
    "version": 3
   },
   "file_extension": ".py",
   "mimetype": "text/x-python",
   "name": "python",
   "nbconvert_exporter": "python",
   "pygments_lexer": "ipython3",
   "version": "3.12.7"
  }
 },
 "nbformat": 4,
 "nbformat_minor": 2
}
