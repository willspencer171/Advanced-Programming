{
 "cells": [
  {
   "cell_type": "markdown",
   "metadata": {},
   "source": [
    "# Exercise 1\n",
    "\n",
    "Using an appropriate Python data structure, implement two programs that demonstrate the behaviour of a stack (LIFO) queue (FIFO). For each program, you should create a menu system to enable the user to manipulate the structure, and the program should keep running until the user chooses to exit."
   ]
  },
  {
   "cell_type": "code",
   "execution_count": 1,
   "metadata": {},
   "outputs": [
    {
     "name": "stdout",
     "output_type": "stream",
     "text": [
      "1. Pop\n",
      "2. Push\n",
      "3. View\n",
      "Stack empty!\n",
      "1. Pop\n",
      "2. Push\n",
      "3. View\n",
      "1. Pop\n",
      "2. Push\n",
      "3. View\n",
      "hello!\n",
      "1. Pop\n",
      "2. Push\n",
      "3. View\n",
      "hello!\n",
      "1. Pop\n",
      "2. Push\n",
      "3. View\n",
      "That's not right...\n",
      "1. Pop\n",
      "2. Push\n",
      "3. View\n",
      "1. Pop\n",
      "2. Push\n",
      "3. View\n",
      "hello!, concatenate this, bitch\n",
      "1. Pop\n",
      "2. Push\n",
      "3. View\n",
      "1. Pop\n",
      "2. Push\n",
      "3. View\n",
      "hello!\n",
      "1. Pop\n",
      "2. Push\n",
      "3. View\n",
      "1. Pop\n",
      "2. Push\n",
      "3. View\n",
      "\n",
      "1. Pop\n",
      "2. Push\n",
      "3. View\n",
      "Stack empty!\n",
      "1. Pop\n",
      "2. Push\n",
      "3. View\n",
      "Stack empty!\n",
      "1. Pop\n",
      "2. Push\n",
      "3. View\n",
      "Stack empty!\n",
      "1. Pop\n",
      "2. Push\n",
      "3. View\n",
      "Bye bye!\n"
     ]
    }
   ],
   "source": [
    "stack = []\n",
    "\n",
    "def pop(stack: list):\n",
    "    if len(stack) > 0:\n",
    "        stack.pop()\n",
    "    else:\n",
    "        print(\"Stack empty!\")\n",
    "\n",
    "def push(stack: list):\n",
    "    stack.append(input(\"Add a string: \"))\n",
    "\n",
    "def view(stack: list):\n",
    "    print(\", \".join(stack))\n",
    "\n",
    "while True:\n",
    "    print('1. Pop\\n2. Push\\n3. View')\n",
    "    u_in = input('Choose a number 1-3. Enter 0 to exit')\n",
    "    if u_in == '0':\n",
    "        print(\"Bye bye!\")\n",
    "        break\n",
    "\n",
    "    if u_in not in ['1', '2', '3']:\n",
    "        print(\"That's not right...\")\n",
    "        continue\n",
    "\n",
    "    match u_in:\n",
    "        case '1':\n",
    "            pop(stack)\n",
    "        \n",
    "        case '2':\n",
    "            push(stack)\n",
    "        \n",
    "        case '3':\n",
    "            view(stack)\n"
   ]
  }
 ],
 "metadata": {
  "kernelspec": {
   "display_name": "Python 3",
   "language": "python",
   "name": "python3"
  },
  "language_info": {
   "codemirror_mode": {
    "name": "ipython",
    "version": 3
   },
   "file_extension": ".py",
   "mimetype": "text/x-python",
   "name": "python",
   "nbconvert_exporter": "python",
   "pygments_lexer": "ipython3",
   "version": "3.12.7"
  }
 },
 "nbformat": 4,
 "nbformat_minor": 2
}
