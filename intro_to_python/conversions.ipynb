{
 "cells": [
  {
   "cell_type": "code",
   "execution_count": null,
   "metadata": {},
   "outputs": [],
   "source": [
    "def ft_to_m():\n",
    "    feet = int(input(\"How many feet? \"))\n",
    "    inch = float(input(\"How many inches? \"))\n",
    "\n",
    "    if inch > 11 or feet < 0 or inch < 0:\n",
    "        raise ValueError(\"Values out of range\")\n",
    "\n",
    "    return f'{feet / 3.281 + inch / 39.37:.2f}m'\n",
    "\n",
    "def lbs_to_kg():\n",
    "    lbs = float(input(\"How many pounds? \"))\n",
    "\n",
    "    if lbs < 0:\n",
    "        raise ValueError(\"Must be positive\")\n",
    "    return f'{lbs / 2.205:.2f}kg'\n",
    "\n",
    "def kelvin_to_centigrade():\n",
    "    kelvin = float(input(\"How many Kelvin? \"))\n",
    "\n",
    "    if kelvin < 0:\n",
    "        raise ValueError(\"No value lower than absolute zero (0K)\")\n",
    "    return f'{kelvin - 273.15:.2f}°C'\n",
    "\n",
    "def h_m_to_sec():\n",
    "    hours = int(input(\"How many hours? \"))\n",
    "    mins = float(input(\"How many minutes? \"))\n",
    "\n",
    "    if hours < 0 or mins < 0 or mins > 59:\n",
    "        raise ValueError(\"Invalid times entered\")\n",
    "    out = f'{(hours * 3600 + mins * 60):.2f}sec'\n",
    "    return out"
   ]
  }
 ],
 "metadata": {
  "kernelspec": {
   "display_name": "Python 3",
   "language": "python",
   "name": "python3"
  },
  "language_info": {
   "codemirror_mode": {
    "name": "ipython",
    "version": 3
   },
   "file_extension": ".py",
   "mimetype": "text/x-python",
   "name": "python",
   "nbconvert_exporter": "python",
   "pygments_lexer": "ipython3",
   "version": "3.12.7"
  }
 },
 "nbformat": 4,
 "nbformat_minor": 2
}
