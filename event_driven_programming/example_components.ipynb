{
 "cells": [
  {
   "cell_type": "markdown",
   "metadata": {},
   "source": [
    "## Run me first!"
   ]
  },
  {
   "cell_type": "code",
   "execution_count": 127,
   "metadata": {},
   "outputs": [
    {
     "data": {
      "text/plain": [
       "''"
      ]
     },
     "execution_count": 127,
     "metadata": {},
     "output_type": "execute_result"
    }
   ],
   "source": [
    "from tkinter import *\n",
    "from tkinter.ttk import *\n",
    "root = Tk()\n",
    "root.geometry('200x500')"
   ]
  },
  {
   "cell_type": "code",
   "execution_count": 44,
   "metadata": {},
   "outputs": [],
   "source": [
    "btn1 = Button(root, text='Press Me!')\n",
    "btn1.pack()"
   ]
  },
  {
   "cell_type": "code",
   "execution_count": 45,
   "metadata": {},
   "outputs": [],
   "source": [
    "var1 = StringVar()\n",
    "var2 = StringVar()\n",
    "\n",
    "var1.set(0)\n",
    "var2.set(0)\n",
    "\n",
    "Radiobutton(root, text=\"Group1\", variable=var1, value=0).pack()\n",
    "Radiobutton(root, text=\"Group1\", variable=var1, value=1).pack()\n",
    "Radiobutton(root, text=\"Group2\", variable=var2, value=0).pack()\n",
    "Radiobutton(root, text=\"Group2\", variable=var2, value=1).pack()"
   ]
  },
  {
   "cell_type": "code",
   "execution_count": 46,
   "metadata": {},
   "outputs": [],
   "source": [
    "opt1_bool = BooleanVar()\n",
    "opt2_bool = BooleanVar()\n",
    "opt3_bool = BooleanVar()\n",
    "\n",
    "opt1_bool.set(0)\n",
    "opt2_bool.set(0)\n",
    "opt3_bool.set(0)\n",
    "\n",
    "Checkbutton(root, text='option 1', variable=opt1_bool, onvalue=True, offvalue=False).pack()\n",
    "Checkbutton(root, text='option 2', variable=opt2_bool, onvalue=True, offvalue=False).pack()\n",
    "Checkbutton(root, text='option 3', variable=opt3_bool, onvalue=True, offvalue=False).pack()"
   ]
  },
  {
   "cell_type": "code",
   "execution_count": 69,
   "metadata": {},
   "outputs": [],
   "source": [
    "listbox = Listbox(root, height=4)\n",
    "\n",
    "listbox.insert(1, 'Apple')\n",
    "listbox.insert(2, 'Banana')\n",
    "listbox.insert(3, 'Pear')\n",
    "listbox.insert(4, 'Orange')\n",
    "\n",
    "listbox.pack(side=TOP)"
   ]
  },
  {
   "cell_type": "code",
   "execution_count": 78,
   "metadata": {},
   "outputs": [],
   "source": [
    "msg = Message(root, text=\"Hello!\\nThis is a new\\nline!\")\n",
    "\n",
    "msg.pack()"
   ]
  },
  {
   "cell_type": "code",
   "execution_count": 114,
   "metadata": {},
   "outputs": [],
   "source": [
    "v1 = StringVar()\n",
    "v1.set(0)\n",
    "\n",
    "frame = Frame(root, width=100, height=300)\n",
    "frame.place(x=50, y=70)\n",
    "\n",
    "def updateText(scale_val):\n",
    "    label.config(text=scale_val)\n",
    "\n",
    "scale = Scale(frame, from_=1, to=100,\n",
    "              variable=v1, orient=HORIZONTAL,\n",
    "              command=updateText)\n",
    "\n",
    "label = Label(frame, text=v1.get())\n",
    "\n",
    "spin = Spinbox(frame, textvariable=v1)\n",
    "\n",
    "scale.pack()\n",
    "label.pack()\n",
    "spin.pack()"
   ]
  },
  {
   "cell_type": "markdown",
   "metadata": {},
   "source": [
    "## Run me Last"
   ]
  },
  {
   "cell_type": "code",
   "execution_count": 128,
   "metadata": {},
   "outputs": [],
   "source": [
    "root.mainloop()"
   ]
  },
  {
   "cell_type": "code",
   "execution_count": 151,
   "metadata": {},
   "outputs": [],
   "source": [
    "root = Tk()\n",
    "root.geometry('1000x900')\n",
    "\n",
    "style = Style()\n",
    "style.configure('my.TButton', font=('helvetica', 16))\n",
    "\n",
    "b = 0\n",
    "for i in range(6):\n",
    "    for j in range(6):\n",
    "        b += 1\n",
    "        Button(root, style='my.TButton', text=str(b)) \\\n",
    "        .grid(row=i, column=j)\n",
    "\n",
    "root.mainloop()"
   ]
  }
 ],
 "metadata": {
  "kernelspec": {
   "display_name": "Python 3",
   "language": "python",
   "name": "python3"
  },
  "language_info": {
   "codemirror_mode": {
    "name": "ipython",
    "version": 3
   },
   "file_extension": ".py",
   "mimetype": "text/x-python",
   "name": "python",
   "nbconvert_exporter": "python",
   "pygments_lexer": "ipython3",
   "version": "3.12.7"
  }
 },
 "nbformat": 4,
 "nbformat_minor": 2
}
