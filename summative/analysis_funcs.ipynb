{
 "cells": [
  {
   "cell_type": "markdown",
   "metadata": {},
   "source": [
    "## What's needed in this module\n",
    "\n",
    "1.\tCOUNT: The interactions for each user with the Component for each month. Add this new field to the new structure.\n",
    "2.\tOUTPUT STATISTICS: Produce the mean, mode and median for the components: Quiz, Lecture, Assignment, Attendance, and Survey.\n",
    "    1. For each month\n",
    "    2. For the entire 13-week academic semester \n",
    "3.\tOUTPUT CORRELATION:  Produce a suitable graph that displays the following information from user interactions with the following components: Assignment, Quiz, Lecture, Book, Project, and Course. Determine if there is any significant correlation between the ‘User_ID’ and ‘Component’. You will need to select an appropriate visualisation to demonstrate this.\n"
   ]
  },
  {
   "cell_type": "code",
   "execution_count": null,
   "metadata": {},
   "outputs": [],
   "source": []
  }
 ],
 "metadata": {
  "kernelspec": {
   "display_name": "Python 3",
   "language": "python",
   "name": "python3"
  },
  "language_info": {
   "name": "python",
   "version": "3.12.7"
  }
 },
 "nbformat": 4,
 "nbformat_minor": 2
}
