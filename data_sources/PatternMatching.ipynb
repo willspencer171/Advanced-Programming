{
 "cells": [
  {
   "cell_type": "markdown",
   "metadata": {},
   "source": [
    "# Exercise 1\n",
    "\n",
    "Create regular expressions to do the following:\n",
    "\n",
    "1. Find the word ‘shrieked’\n",
    "2. Find the word ‘bleak’\n",
    "3. Count the number of words that contain ‘pp’\n",
    "4. Change all the exclamations marks (!) to hash symbols (#)\n",
    "5. Identify all the words that start with a ‘t” but do not end with an ‘e’, case should be ignored here."
   ]
  },
  {
   "cell_type": "code",
   "execution_count": 10,
   "metadata": {},
   "outputs": [
    {
     "data": {
      "text/plain": [
       "'Once upon a midnight dreary, while I\\n\\tpondered, weak and weary,\\nOver many a quaint and curious volume of forgotten lore-\\nWhile I nodded, nearly napping, suddenly\\n\\tthere came a tapping,\\nAs of some one gently rapping, rapping at my chamber door -\\n\\'Tis some visitor,\\' I muttered, \\'tapping at my chamber door -\\nOnly this and nothing more,\\'\\n\\n“Be that word our sign of parting, bird or\\n\\tfiend!” I shrieked, upstarting –\\n“Get thee back into the tempest and the\\n\\tNight’s Plutonian shore!\\nLeave no black plume as a token of that\\n\\tLie thy soul hath spoken!\\nLeave my loneliness unbroken! – quit the bust above my door!\\nTake thy beak from my heart, and take \\nthy form from off my door!”\\n\\tQuoth the raven ‘Nevermore.’\\n\\nExert form Edger Allen Poe\\'s \"The Raven\".\\n'"
      ]
     },
     "execution_count": 10,
     "metadata": {},
     "output_type": "execute_result"
    }
   ],
   "source": [
    "import re\n",
    "\n",
    "def test(res):\n",
    "    if res:\n",
    "        print(res[0])\n",
    "    else:\n",
    "        print(\"Nothing found\")\n",
    "\n",
    "with open('Data/The_Raven.txt') as file:\n",
    "    data = file.read()\n",
    "\n",
    "data"
   ]
  },
  {
   "cell_type": "code",
   "execution_count": null,
   "metadata": {},
   "outputs": [
    {
     "name": "stdout",
     "output_type": "stream",
     "text": [
      "shrieked\n"
     ]
    }
   ],
   "source": [
    "# Find the word 'shrieked'\n",
    "shrieked = re.compile('shrieked')\n",
    "res = re.search(shrieked, data)\n",
    "\n",
    "test(res)"
   ]
  },
  {
   "cell_type": "code",
   "execution_count": null,
   "metadata": {},
   "outputs": [
    {
     "name": "stdout",
     "output_type": "stream",
     "text": [
      "Nothing found\n"
     ]
    }
   ],
   "source": [
    "# Find the word 'bleak'\n",
    "bleak = re.compile('bleak')\n",
    "res = re.search(bleak, data)\n",
    "\n",
    "test(res)"
   ]
  },
  {
   "cell_type": "code",
   "execution_count": null,
   "metadata": {},
   "outputs": [
    {
     "data": {
      "text/plain": [
       "5"
      ]
     },
     "execution_count": 19,
     "metadata": {},
     "output_type": "execute_result"
    }
   ],
   "source": [
    "# Find all words containing 'pp'\n",
    "pp_count = re.compile(r'\\b\\w*pp\\w*\\b')\n",
    "res = re.findall(pp_count, data)\n",
    "\n",
    "print(f\"Length: {len(res)}\")"
   ]
  },
  {
   "cell_type": "code",
   "execution_count": null,
   "metadata": {},
   "outputs": [
    {
     "data": {
      "text/plain": [
       "'Once upon a midnight dreary, while I\\n\\tpondered, weak and weary,\\nOver many a quaint and curious volume of forgotten lore-\\nWhile I nodded, nearly napping, suddenly\\n\\tthere came a tapping,\\nAs of some one gently rapping, rapping at my chamber door -\\n\\'Tis some visitor,\\' I muttered, \\'tapping at my chamber door -\\nOnly this and nothing more,\\'\\n\\n“Be that word our sign of parting, bird or\\n\\tfiend#” I shrieked, upstarting –\\n“Get thee back into the tempest and the\\n\\tNight’s Plutonian shore#\\nLeave no black plume as a token of that\\n\\tLie thy soul hath spoken#\\nLeave my loneliness unbroken# – quit the bust above my door#\\nTake thy beak from my heart, and take \\nthy form from off my door#”\\n\\tQuoth the raven ‘Nevermore.’\\n\\nExert form Edger Allen Poe\\'s \"The Raven\".\\n'"
      ]
     },
     "execution_count": 20,
     "metadata": {},
     "output_type": "execute_result"
    }
   ],
   "source": [
    "# Replace all ! with #\n",
    "re.sub(\"!\", \"#\", data)"
   ]
  },
  {
   "cell_type": "code",
   "execution_count": 60,
   "metadata": {},
   "outputs": [
    {
     "data": {
      "text/plain": [
       "['tapping',\n",
       " 'Tis',\n",
       " 'tapping',\n",
       " 'this',\n",
       " 'that',\n",
       " 'tempest',\n",
       " 'token',\n",
       " 'that',\n",
       " 'thy',\n",
       " 'thy',\n",
       " 'thy']"
      ]
     },
     "execution_count": 60,
     "metadata": {},
     "output_type": "execute_result"
    }
   ],
   "source": [
    "# Find all words that start with t and don't end with e\n",
    "\n",
    "# (?<!e) is a negative lookbehind assertion i.e. \"Before this word boundary,\n",
    "# make sure there isn't an e\"\n",
    "start_t_end_no_e = re.compile(r'\\bt\\w*(?<!e)\\b', flags=re.I)\n",
    "\n",
    "res = re.findall(start_t_end_no_e, data)\n",
    "res"
   ]
  }
 ],
 "metadata": {
  "kernelspec": {
   "display_name": "Python 3",
   "language": "python",
   "name": "python3"
  },
  "language_info": {
   "codemirror_mode": {
    "name": "ipython",
    "version": 3
   },
   "file_extension": ".py",
   "mimetype": "text/x-python",
   "name": "python",
   "nbconvert_exporter": "python",
   "pygments_lexer": "ipython3",
   "version": "3.12.7"
  }
 },
 "nbformat": 4,
 "nbformat_minor": 2
}
