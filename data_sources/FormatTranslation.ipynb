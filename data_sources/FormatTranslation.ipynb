{
 "cells": [
  {
   "cell_type": "markdown",
   "metadata": {},
   "source": [
    "# Exercise\n",
    "\n",
    "Write a program using the appropriate APIs to translate from one format to another. So you can either use the XML file and translate into JSON or use the JSON file and translate it into XML. You should output the generated format to file. The file outputted from your program can then be compared with the version given here. What, if any, differences are there? Do these differences affect the integrity of the data in the file you generated? If they do, what changes do you need to make your program?"
   ]
  },
  {
   "cell_type": "code",
   "execution_count": 107,
   "metadata": {},
   "outputs": [],
   "source": [
    "# I tried but I gave up. Parsing from JSON to XML is rough\n",
    "from json2xml import json2xml\n",
    "from json2xml.utils import readfromjson\n",
    "\n",
    "xml = readfromjson('Data/People.json')\n",
    "with open(\"Data/People_.xml\", \"w+\") as file:\n",
    "    file.write(json2xml.Json2xml(xml, wrapper=\"People\").to_xml())"
   ]
  }
 ],
 "metadata": {
  "kernelspec": {
   "display_name": "Python 3",
   "language": "python",
   "name": "python3"
  },
  "language_info": {
   "codemirror_mode": {
    "name": "ipython",
    "version": 3
   },
   "file_extension": ".py",
   "mimetype": "text/x-python",
   "name": "python",
   "nbconvert_exporter": "python",
   "pygments_lexer": "ipython3",
   "version": "3.12.7"
  }
 },
 "nbformat": 4,
 "nbformat_minor": 2
}
