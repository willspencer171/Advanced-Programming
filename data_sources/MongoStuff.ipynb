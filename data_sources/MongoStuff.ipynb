{
 "cells": [
  {
   "cell_type": "code",
   "execution_count": 83,
   "metadata": {},
   "outputs": [],
   "source": [
    "import pymongo\n",
    "import json\n",
    "import pprint\n",
    "\n",
    "# Setup\n",
    "client = pymongo.MongoClient('mongodb://127.0.0.1:27017')\n",
    "\n",
    "client.list_database_names()\n",
    "\n",
    "db = client['People']\n",
    "\n",
    "collection = db['Person']"
   ]
  },
  {
   "cell_type": "code",
   "execution_count": null,
   "metadata": {},
   "outputs": [],
   "source": [
    "with open('Data/People.json') as json_file:\n",
    "    data = json.load(json_file)\n",
    "    for item in data[\"students\"]:\n",
    "        collection.insert_one(item)"
   ]
  },
  {
   "cell_type": "code",
   "execution_count": 85,
   "metadata": {},
   "outputs": [
    {
     "name": "stdout",
     "output_type": "stream",
     "text": [
      "{'_id': ObjectId('6733c0f2db40a04c31a55506'),\n",
      " 'age': 32,\n",
      " 'fullName': {'first': 'Lisa',\n",
      "              'other': ['Melanie'],\n",
      "              'surname': 'Penny',\n",
      "              'title': 'Mrs'}}\n",
      "{'_id': ObjectId('6733c0f2db40a04c31a55507'),\n",
      " 'age': 38,\n",
      " 'fullName': {'first': 'Lorenzo',\n",
      "              'other': ['Ruelle', 'Garlen'],\n",
      "              'surname': 'Dubois',\n",
      "              'title': 'Mr'}}\n",
      "{'_id': ObjectId('6733c0f2db40a04c31a55509'),\n",
      " 'age': 27,\n",
      " 'fullName': {'first': 'Tanveer',\n",
      "              'other': ['Vihaan'],\n",
      "              'surname': 'Patel',\n",
      "              'title': 'Mr'}}\n"
     ]
    }
   ],
   "source": [
    "# Those over 25\n",
    "for res in collection.find({'age': {'$gt': 25}}, {'fullName', 'age'}):\n",
    "    pprint.pprint(res)"
   ]
  },
  {
   "cell_type": "code",
   "execution_count": 86,
   "metadata": {},
   "outputs": [
    {
     "name": "stdout",
     "output_type": "stream",
     "text": [
      "{'_id': ObjectId('6733c0f2db40a04c31a55508'), 'id': 546854}\n"
     ]
    }
   ],
   "source": [
    "# Those without middle names\n",
    "for res in collection.find({'fullName.other': None}, {'id'}):\n",
    "    pprint.pprint(res)"
   ]
  },
  {
   "cell_type": "code",
   "execution_count": 87,
   "metadata": {},
   "outputs": [
    {
     "name": "stdout",
     "output_type": "stream",
     "text": [
      "Women outside Tokyo: 2\n",
      "Men outside Tokyo: 2\n"
     ]
    }
   ],
   "source": [
    "men_outside_tokyo = collection.count_documents({'fullName.title': 'Mr',\n",
    "                                                'city': {'$not': {'$eq': 'Tokyo'}}})\n",
    "\n",
    "women_outside_tokyo = collection.count_documents({'fullName.title': {'$not':{'$eq':'Mr'}},\n",
    "                                                  'city': {'$not': {'$eq': 'Tokyo'}}})\n",
    "\n",
    "print(f'Women outside Tokyo: {women_outside_tokyo}\\nMen outside Tokyo: {men_outside_tokyo}')"
   ]
  }
 ],
 "metadata": {
  "kernelspec": {
   "display_name": "Python 3",
   "language": "python",
   "name": "python3"
  },
  "language_info": {
   "codemirror_mode": {
    "name": "ipython",
    "version": 3
   },
   "file_extension": ".py",
   "mimetype": "text/x-python",
   "name": "python",
   "nbconvert_exporter": "python",
   "pygments_lexer": "ipython3",
   "version": "3.12.7"
  }
 },
 "nbformat": 4,
 "nbformat_minor": 2
}
