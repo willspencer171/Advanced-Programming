{
 "cells": [
  {
   "cell_type": "markdown",
   "metadata": {},
   "source": [
    "# Exercise 1\n",
    "- generating 10000 random numbers in a 2-dimensional array\n",
    "- for each value in the array calculate the square root\n",
    "- and then sum all those calculations."
   ]
  },
  {
   "cell_type": "code",
   "execution_count": 11,
   "metadata": {},
   "outputs": [
    {
     "data": {
      "text/plain": [
       "np.float64(4994.626474359588)"
      ]
     },
     "execution_count": 11,
     "metadata": {},
     "output_type": "execute_result"
    }
   ],
   "source": [
    "import numpy as np\n",
    "\n",
    "arr = np.random.random((100, 100))\n",
    "sqrt = np.sqrt(arr)\n",
    "np.sum(arr)"
   ]
  },
  {
   "cell_type": "markdown",
   "metadata": {},
   "source": [
    "# Exercise 2\n",
    "Select the following data from the `RandomeValues.csv` file:\n",
    "\n",
    "- All the data in rows, 5,7 and 9.\n",
    "- All the data in columns 0, 7, 10.\n",
    "- The data in columns 1 to 3 (exclusively), from rows 7 to 9 (inclusively)."
   ]
  },
  {
   "cell_type": "code",
   "execution_count": 19,
   "metadata": {},
   "outputs": [
    {
     "data": {
      "text/plain": [
       "array([[10.],\n",
       "       [ 8.],\n",
       "       [76.]])"
      ]
     },
     "execution_count": 19,
     "metadata": {},
     "output_type": "execute_result"
    }
   ],
   "source": [
    "arr = np.genfromtxt('data/RandomeValues.csv', delimiter=',')\n",
    "arr[[5,7,9]]\n",
    "arr[:,[0,7,10]]\n",
    "\n",
    "arr[7:10,2:3]"
   ]
  },
  {
   "cell_type": "markdown",
   "metadata": {},
   "source": [
    "# Exercise 3\n",
    "Extract from `SalesData.csv` file the column and row headers into two separate arrays. Then extract the data values into a separate 2D array. Using these 3 arrays extract the following data:\n",
    "\n",
    "- All the sales for the second quarter (Jul-18 to Sep-18 inclusive) calculating the total and the mean for each month.\n",
    "- All the sales for stores L3 and L1, for the first and third quarter calculating the total and the mean for each quarter for each store.\n",
    "- All the sales for N6 and N4 that are lower than 400 and list the months in which the occur."
   ]
  },
  {
   "cell_type": "code",
   "execution_count": 75,
   "metadata": {},
   "outputs": [],
   "source": [
    "with open('data/SalesData.csv') as file:\n",
    "    data = [line for line in file.readlines()]\n",
    "# Because popping is so convenient!\n",
    "headers = np.array(data.pop(0).strip().split(','))[1:]\n",
    "\n",
    "data = np.array([line.strip().split(',') for line in data])\n",
    "\n",
    "index = data[:, 0]\n",
    "\n",
    "data = np.delete(data, [0], axis=1)\n",
    "data = data.astype(int)"
   ]
  },
  {
   "cell_type": "code",
   "execution_count": null,
   "metadata": {},
   "outputs": [
    {
     "data": {
      "text/plain": [
       "array([348, 352, 385, 361, 365, 426])"
      ]
     },
     "execution_count": 81,
     "metadata": {},
     "output_type": "execute_result"
    }
   ],
   "source": [
    "q2 = data[:, 3:6].transpose()\n",
    "q2_sum = q2.sum(axis=0)\n",
    "q2_mean = q2.mean(axis=0, dtype=int)\n",
    "q2_mean"
   ]
  },
  {
   "cell_type": "code",
   "execution_count": null,
   "metadata": {},
   "outputs": [
    {
     "data": {
      "text/plain": [
       "array([[392, 377, 347, 340, 446, 573],\n",
       "       [250, 270, 300, 306, 489, 552]])"
      ]
     },
     "execution_count": 101,
     "metadata": {},
     "output_type": "execute_result"
    }
   ],
   "source": [
    "L3_L1 = data[1:3, (np.isin(headers, ['Apr-18', 'May-18', 'Jun-18', \n",
    "                                     'Oct-18', 'Nov-18', 'Dec-18']))]\n",
    "L3_L1"
   ]
  },
  {
   "cell_type": "code",
   "execution_count": null,
   "metadata": {},
   "outputs": [],
   "source": [
    "q1_sums = L3_L1[:, :3].sum(axis=1)\n",
    "q3_sums = L3_L1[:, 3:].sum(axis=1)\n",
    "q1_means = L3_L1[:, :3].mean(axis=1)\n",
    "q3_means = L3_L1[:, 3:].mean(axis=1)"
   ]
  },
  {
   "cell_type": "code",
   "execution_count": 148,
   "metadata": {},
   "outputs": [],
   "source": [
    "n6_n4 = data[(np.isin(index, ['N6', 'N4']))]\n",
    "months = headers[(n6_n4<400)[0] * (n6_n4<400)[1]]"
   ]
  },
  {
   "cell_type": "markdown",
   "metadata": {},
   "source": [
    "# Exercise 4\n",
    "The random walk problem can be used as an interesting investigation into probability. Consider the following:\n",
    "\n",
    "- A bug lives in the middle of a long thin island where it can only move left or right. The island is 7 units (steps) long. If the bug reaches the edge of the island in either direction it will fall off and drown in the sea. The bug can only move one step in either direction. If the direction is randomly selected how many steps will it take before the bug falls off?\n",
    "- Investigate ‘random walks’ and using the code in the core text as a starting point write a program to test the above scenario over 100 iterations. Collect the step count in an appropriate structure and then apply appropriate statistics to describe this data."
   ]
  },
  {
   "cell_type": "code",
   "execution_count": 218,
   "metadata": {},
   "outputs": [
    {
     "data": {
      "text/plain": [
       "np.float64(45.7107704719645)"
      ]
     },
     "execution_count": 218,
     "metadata": {},
     "output_type": "execute_result"
    }
   ],
   "source": [
    "def walk_fun(iter=500, steps=100):\n",
    "    rand = np.random.default_rng(4546)\n",
    "    draws = rand.integers(0, 2, (iter, steps))\n",
    "    steps = np.where(draws == 0, 1, -1)\n",
    "\n",
    "    walk = steps.cumsum(axis=1)\n",
    "    return walk\n",
    "\n",
    "walk = walk_fun(5000, 200)\n",
    "\n",
    "reaches_7 = (np.abs(walk) >= 7).any(axis=1)\n",
    "\n",
    "# Percentage of the iterations that reach 7 steps in either direction\n",
    "np.count_nonzero(reaches_7) / reaches_7.shape[0]\n",
    "\n",
    "# Average walk distance of each iteration\n",
    "walk.mean(axis=1)\n",
    "# Average cumulative distance of each step\n",
    "walk.mean(axis=0)\n",
    "# Average walk distance across 500 walks of length 100\n",
    "walk.mean()\n",
    "\n",
    "# Average minimum crossing time of 7 steps over 500 iterations\n",
    "(np.abs(walk[reaches_7]) >= 7).argmax(axis=1).mean()"
   ]
  }
 ],
 "metadata": {
  "kernelspec": {
   "display_name": "Python 3",
   "language": "python",
   "name": "python3"
  },
  "language_info": {
   "codemirror_mode": {
    "name": "ipython",
    "version": 3
   },
   "file_extension": ".py",
   "mimetype": "text/x-python",
   "name": "python",
   "nbconvert_exporter": "python",
   "pygments_lexer": "ipython3",
   "version": "3.12.7"
  }
 },
 "nbformat": 4,
 "nbformat_minor": 2
}
